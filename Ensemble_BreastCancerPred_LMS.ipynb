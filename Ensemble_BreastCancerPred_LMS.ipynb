{
 "cells": [
  {
   "cell_type": "code",
   "execution_count": 1,
   "id": "2183229b",
   "metadata": {},
   "outputs": [],
   "source": [
    "import os\n",
    "import numpy as np \n",
    "import pandas as pd\n",
    "import matplotlib.pyplot as plt\n",
    "import seaborn as sns\n",
    "from sklearn import svm \n",
    "from sklearn import metrics\n",
    "from sklearn.model_selection import train_test_split\n",
    "from sklearn.preprocessing import StandardScaler, MinMaxScaler\n",
    "from sklearn.ensemble import RandomForestClassifier\n",
    "from sklearn.ensemble import BaggingClassifier\n",
    "from sklearn.ensemble import AdaBoostClassifier"
   ]
  },
  {
   "cell_type": "code",
   "execution_count": 3,
   "id": "0d997478",
   "metadata": {},
   "outputs": [],
   "source": [
    "os.chdir(r'C:\\Users\\Bushra Ansari\\Desktop\\LMS_DATASET\\SVM\\Breast Cancer Prediction')"
   ]
  },
  {
   "cell_type": "code",
   "execution_count": 4,
   "id": "48dd03f2",
   "metadata": {},
   "outputs": [
    {
     "data": {
      "text/plain": [
       "['cancer.csv', 'Problem Statement_EnsembleTechniques.pdf']"
      ]
     },
     "execution_count": 4,
     "metadata": {},
     "output_type": "execute_result"
    }
   ],
   "source": [
    "os.listdir()"
   ]
  },
  {
   "cell_type": "code",
   "execution_count": 5,
   "id": "b57aa0e3",
   "metadata": {},
   "outputs": [
    {
     "data": {
      "text/html": [
       "<div>\n",
       "<style scoped>\n",
       "    .dataframe tbody tr th:only-of-type {\n",
       "        vertical-align: middle;\n",
       "    }\n",
       "\n",
       "    .dataframe tbody tr th {\n",
       "        vertical-align: top;\n",
       "    }\n",
       "\n",
       "    .dataframe thead th {\n",
       "        text-align: right;\n",
       "    }\n",
       "</style>\n",
       "<table border=\"1\" class=\"dataframe\">\n",
       "  <thead>\n",
       "    <tr style=\"text-align: right;\">\n",
       "      <th></th>\n",
       "      <th>id</th>\n",
       "      <th>diagnosis</th>\n",
       "      <th>radius_mean</th>\n",
       "      <th>texture_mean</th>\n",
       "      <th>perimeter_mean</th>\n",
       "      <th>area_mean</th>\n",
       "      <th>smoothness_mean</th>\n",
       "      <th>compactness_mean</th>\n",
       "      <th>concavity_mean</th>\n",
       "      <th>concave points_mean</th>\n",
       "      <th>...</th>\n",
       "      <th>texture_worst</th>\n",
       "      <th>perimeter_worst</th>\n",
       "      <th>area_worst</th>\n",
       "      <th>smoothness_worst</th>\n",
       "      <th>compactness_worst</th>\n",
       "      <th>concavity_worst</th>\n",
       "      <th>concave points_worst</th>\n",
       "      <th>symmetry_worst</th>\n",
       "      <th>fractal_dimension_worst</th>\n",
       "      <th>Unnamed: 32</th>\n",
       "    </tr>\n",
       "  </thead>\n",
       "  <tbody>\n",
       "    <tr>\n",
       "      <th>0</th>\n",
       "      <td>842302</td>\n",
       "      <td>M</td>\n",
       "      <td>17.99</td>\n",
       "      <td>10.38</td>\n",
       "      <td>122.80</td>\n",
       "      <td>1001.0</td>\n",
       "      <td>0.11840</td>\n",
       "      <td>0.27760</td>\n",
       "      <td>0.3001</td>\n",
       "      <td>0.14710</td>\n",
       "      <td>...</td>\n",
       "      <td>17.33</td>\n",
       "      <td>184.60</td>\n",
       "      <td>2019.0</td>\n",
       "      <td>0.1622</td>\n",
       "      <td>0.6656</td>\n",
       "      <td>0.7119</td>\n",
       "      <td>0.2654</td>\n",
       "      <td>0.4601</td>\n",
       "      <td>0.11890</td>\n",
       "      <td>NaN</td>\n",
       "    </tr>\n",
       "    <tr>\n",
       "      <th>1</th>\n",
       "      <td>842517</td>\n",
       "      <td>M</td>\n",
       "      <td>20.57</td>\n",
       "      <td>17.77</td>\n",
       "      <td>132.90</td>\n",
       "      <td>1326.0</td>\n",
       "      <td>0.08474</td>\n",
       "      <td>0.07864</td>\n",
       "      <td>0.0869</td>\n",
       "      <td>0.07017</td>\n",
       "      <td>...</td>\n",
       "      <td>23.41</td>\n",
       "      <td>158.80</td>\n",
       "      <td>1956.0</td>\n",
       "      <td>0.1238</td>\n",
       "      <td>0.1866</td>\n",
       "      <td>0.2416</td>\n",
       "      <td>0.1860</td>\n",
       "      <td>0.2750</td>\n",
       "      <td>0.08902</td>\n",
       "      <td>NaN</td>\n",
       "    </tr>\n",
       "    <tr>\n",
       "      <th>2</th>\n",
       "      <td>84300903</td>\n",
       "      <td>M</td>\n",
       "      <td>19.69</td>\n",
       "      <td>21.25</td>\n",
       "      <td>130.00</td>\n",
       "      <td>1203.0</td>\n",
       "      <td>0.10960</td>\n",
       "      <td>0.15990</td>\n",
       "      <td>0.1974</td>\n",
       "      <td>0.12790</td>\n",
       "      <td>...</td>\n",
       "      <td>25.53</td>\n",
       "      <td>152.50</td>\n",
       "      <td>1709.0</td>\n",
       "      <td>0.1444</td>\n",
       "      <td>0.4245</td>\n",
       "      <td>0.4504</td>\n",
       "      <td>0.2430</td>\n",
       "      <td>0.3613</td>\n",
       "      <td>0.08758</td>\n",
       "      <td>NaN</td>\n",
       "    </tr>\n",
       "    <tr>\n",
       "      <th>3</th>\n",
       "      <td>84348301</td>\n",
       "      <td>M</td>\n",
       "      <td>11.42</td>\n",
       "      <td>20.38</td>\n",
       "      <td>77.58</td>\n",
       "      <td>386.1</td>\n",
       "      <td>0.14250</td>\n",
       "      <td>0.28390</td>\n",
       "      <td>0.2414</td>\n",
       "      <td>0.10520</td>\n",
       "      <td>...</td>\n",
       "      <td>26.50</td>\n",
       "      <td>98.87</td>\n",
       "      <td>567.7</td>\n",
       "      <td>0.2098</td>\n",
       "      <td>0.8663</td>\n",
       "      <td>0.6869</td>\n",
       "      <td>0.2575</td>\n",
       "      <td>0.6638</td>\n",
       "      <td>0.17300</td>\n",
       "      <td>NaN</td>\n",
       "    </tr>\n",
       "    <tr>\n",
       "      <th>4</th>\n",
       "      <td>84358402</td>\n",
       "      <td>M</td>\n",
       "      <td>20.29</td>\n",
       "      <td>14.34</td>\n",
       "      <td>135.10</td>\n",
       "      <td>1297.0</td>\n",
       "      <td>0.10030</td>\n",
       "      <td>0.13280</td>\n",
       "      <td>0.1980</td>\n",
       "      <td>0.10430</td>\n",
       "      <td>...</td>\n",
       "      <td>16.67</td>\n",
       "      <td>152.20</td>\n",
       "      <td>1575.0</td>\n",
       "      <td>0.1374</td>\n",
       "      <td>0.2050</td>\n",
       "      <td>0.4000</td>\n",
       "      <td>0.1625</td>\n",
       "      <td>0.2364</td>\n",
       "      <td>0.07678</td>\n",
       "      <td>NaN</td>\n",
       "    </tr>\n",
       "  </tbody>\n",
       "</table>\n",
       "<p>5 rows × 33 columns</p>\n",
       "</div>"
      ],
      "text/plain": [
       "         id diagnosis  radius_mean  texture_mean  perimeter_mean  area_mean  \\\n",
       "0    842302         M        17.99         10.38          122.80     1001.0   \n",
       "1    842517         M        20.57         17.77          132.90     1326.0   \n",
       "2  84300903         M        19.69         21.25          130.00     1203.0   \n",
       "3  84348301         M        11.42         20.38           77.58      386.1   \n",
       "4  84358402         M        20.29         14.34          135.10     1297.0   \n",
       "\n",
       "   smoothness_mean  compactness_mean  concavity_mean  concave points_mean  \\\n",
       "0          0.11840           0.27760          0.3001              0.14710   \n",
       "1          0.08474           0.07864          0.0869              0.07017   \n",
       "2          0.10960           0.15990          0.1974              0.12790   \n",
       "3          0.14250           0.28390          0.2414              0.10520   \n",
       "4          0.10030           0.13280          0.1980              0.10430   \n",
       "\n",
       "   ...  texture_worst  perimeter_worst  area_worst  smoothness_worst  \\\n",
       "0  ...          17.33           184.60      2019.0            0.1622   \n",
       "1  ...          23.41           158.80      1956.0            0.1238   \n",
       "2  ...          25.53           152.50      1709.0            0.1444   \n",
       "3  ...          26.50            98.87       567.7            0.2098   \n",
       "4  ...          16.67           152.20      1575.0            0.1374   \n",
       "\n",
       "   compactness_worst  concavity_worst  concave points_worst  symmetry_worst  \\\n",
       "0             0.6656           0.7119                0.2654          0.4601   \n",
       "1             0.1866           0.2416                0.1860          0.2750   \n",
       "2             0.4245           0.4504                0.2430          0.3613   \n",
       "3             0.8663           0.6869                0.2575          0.6638   \n",
       "4             0.2050           0.4000                0.1625          0.2364   \n",
       "\n",
       "   fractal_dimension_worst  Unnamed: 32  \n",
       "0                  0.11890          NaN  \n",
       "1                  0.08902          NaN  \n",
       "2                  0.08758          NaN  \n",
       "3                  0.17300          NaN  \n",
       "4                  0.07678          NaN  \n",
       "\n",
       "[5 rows x 33 columns]"
      ]
     },
     "execution_count": 5,
     "metadata": {},
     "output_type": "execute_result"
    }
   ],
   "source": [
    "cancer = pd.read_csv('cancer.csv')\n",
    "cancer.head()"
   ]
  },
  {
   "cell_type": "code",
   "execution_count": 6,
   "id": "6603617d",
   "metadata": {},
   "outputs": [
    {
     "name": "stdout",
     "output_type": "stream",
     "text": [
      "<class 'pandas.core.frame.DataFrame'>\n",
      "RangeIndex: 569 entries, 0 to 568\n",
      "Data columns (total 33 columns):\n",
      " #   Column                   Non-Null Count  Dtype  \n",
      "---  ------                   --------------  -----  \n",
      " 0   id                       569 non-null    int64  \n",
      " 1   diagnosis                569 non-null    object \n",
      " 2   radius_mean              569 non-null    float64\n",
      " 3   texture_mean             569 non-null    float64\n",
      " 4   perimeter_mean           569 non-null    float64\n",
      " 5   area_mean                569 non-null    float64\n",
      " 6   smoothness_mean          569 non-null    float64\n",
      " 7   compactness_mean         569 non-null    float64\n",
      " 8   concavity_mean           569 non-null    float64\n",
      " 9   concave points_mean      569 non-null    float64\n",
      " 10  symmetry_mean            569 non-null    float64\n",
      " 11  fractal_dimension_mean   569 non-null    float64\n",
      " 12  radius_se                569 non-null    float64\n",
      " 13  texture_se               569 non-null    float64\n",
      " 14  perimeter_se             569 non-null    float64\n",
      " 15  area_se                  569 non-null    float64\n",
      " 16  smoothness_se            569 non-null    float64\n",
      " 17  compactness_se           569 non-null    float64\n",
      " 18  concavity_se             569 non-null    float64\n",
      " 19  concave points_se        569 non-null    float64\n",
      " 20  symmetry_se              569 non-null    float64\n",
      " 21  fractal_dimension_se     569 non-null    float64\n",
      " 22  radius_worst             569 non-null    float64\n",
      " 23  texture_worst            569 non-null    float64\n",
      " 24  perimeter_worst          569 non-null    float64\n",
      " 25  area_worst               569 non-null    float64\n",
      " 26  smoothness_worst         569 non-null    float64\n",
      " 27  compactness_worst        569 non-null    float64\n",
      " 28  concavity_worst          569 non-null    float64\n",
      " 29  concave points_worst     569 non-null    float64\n",
      " 30  symmetry_worst           569 non-null    float64\n",
      " 31  fractal_dimension_worst  569 non-null    float64\n",
      " 32  Unnamed: 32              0 non-null      float64\n",
      "dtypes: float64(31), int64(1), object(1)\n",
      "memory usage: 146.8+ KB\n"
     ]
    }
   ],
   "source": [
    "cancer.info()"
   ]
  },
  {
   "cell_type": "code",
   "execution_count": 7,
   "id": "1b527a66",
   "metadata": {},
   "outputs": [
    {
     "data": {
      "text/plain": [
       "float64    31\n",
       "int64       1\n",
       "object      1\n",
       "dtype: int64"
      ]
     },
     "execution_count": 7,
     "metadata": {},
     "output_type": "execute_result"
    }
   ],
   "source": [
    "cancer.dtypes.value_counts()"
   ]
  },
  {
   "cell_type": "code",
   "execution_count": 8,
   "id": "1e75a98b",
   "metadata": {},
   "outputs": [
    {
     "data": {
      "text/plain": [
       "(569, 33)"
      ]
     },
     "execution_count": 8,
     "metadata": {},
     "output_type": "execute_result"
    }
   ],
   "source": [
    "cancer.shape"
   ]
  },
  {
   "cell_type": "code",
   "execution_count": 9,
   "id": "0206dfee",
   "metadata": {},
   "outputs": [
    {
     "data": {
      "text/plain": [
       "id                           0\n",
       "diagnosis                    0\n",
       "radius_mean                  0\n",
       "texture_mean                 0\n",
       "perimeter_mean               0\n",
       "area_mean                    0\n",
       "smoothness_mean              0\n",
       "compactness_mean             0\n",
       "concavity_mean               0\n",
       "concave points_mean          0\n",
       "symmetry_mean                0\n",
       "fractal_dimension_mean       0\n",
       "radius_se                    0\n",
       "texture_se                   0\n",
       "perimeter_se                 0\n",
       "area_se                      0\n",
       "smoothness_se                0\n",
       "compactness_se               0\n",
       "concavity_se                 0\n",
       "concave points_se            0\n",
       "symmetry_se                  0\n",
       "fractal_dimension_se         0\n",
       "radius_worst                 0\n",
       "texture_worst                0\n",
       "perimeter_worst              0\n",
       "area_worst                   0\n",
       "smoothness_worst             0\n",
       "compactness_worst            0\n",
       "concavity_worst              0\n",
       "concave points_worst         0\n",
       "symmetry_worst               0\n",
       "fractal_dimension_worst      0\n",
       "Unnamed: 32                569\n",
       "dtype: int64"
      ]
     },
     "execution_count": 9,
     "metadata": {},
     "output_type": "execute_result"
    }
   ],
   "source": [
    "cancer.isnull().sum()"
   ]
  },
  {
   "cell_type": "code",
   "execution_count": 10,
   "id": "42e3c292",
   "metadata": {},
   "outputs": [],
   "source": [
    "cancer.drop(['Unnamed: 32', 'id'], axis = 1, inplace = True)"
   ]
  },
  {
   "cell_type": "code",
   "execution_count": 11,
   "id": "604c9cd2",
   "metadata": {},
   "outputs": [
    {
     "data": {
      "text/plain": [
       "array(['M', 'B'], dtype=object)"
      ]
     },
     "execution_count": 11,
     "metadata": {},
     "output_type": "execute_result"
    }
   ],
   "source": [
    "# Target Variable\n",
    "cancer['diagnosis'].unique()\n",
    "# B=patient has no cancer, M=patient has cancer"
   ]
  },
  {
   "cell_type": "code",
   "execution_count": 12,
   "id": "c52ba6cd",
   "metadata": {},
   "outputs": [],
   "source": [
    "# Replace B with 0 and M with 1\n",
    "cancer['diagnosis'].replace({'B' : '0', 'M' : '1'}, inplace = True)"
   ]
  },
  {
   "cell_type": "code",
   "execution_count": 13,
   "id": "204d563e",
   "metadata": {},
   "outputs": [
    {
     "data": {
      "image/png": "[encoded data removed]",
      "text/plain": [
       "<Figure size 360x360 with 1 Axes>"
      ]
     },
     "metadata": {},
     "output_type": "display_data"
    }
   ],
   "source": [
    "cancer['diagnosis'].value_counts().plot(kind = 'pie', autopct = '%0.2f%%', figsize = [5,5], explode = [0,0.05],\n",
    "                                       colors = ['#CAFF70', '#AB82FF'], shadow = True)\n",
    "plt.show()"
   ]
  },
  {
   "cell_type": "code",
   "execution_count": 14,
   "id": "99b08e4d",
   "metadata": {},
   "outputs": [
    {
     "data": {
      "text/plain": [
       "Index(['diagnosis', 'radius_mean', 'texture_mean', 'perimeter_mean',\n",
       "       'area_mean', 'smoothness_mean', 'compactness_mean', 'concavity_mean',\n",
       "       'concave points_mean', 'symmetry_mean', 'fractal_dimension_mean',\n",
       "       'radius_se', 'texture_se', 'perimeter_se', 'area_se', 'smoothness_se',\n",
       "       'compactness_se', 'concavity_se', 'concave points_se', 'symmetry_se',\n",
       "       'fractal_dimension_se', 'radius_worst', 'texture_worst',\n",
       "       'perimeter_worst', 'area_worst', 'smoothness_worst',\n",
       "       'compactness_worst', 'concavity_worst', 'concave points_worst',\n",
       "       'symmetry_worst', 'fractal_dimension_worst'],\n",
       "      dtype='object')"
      ]
     },
     "execution_count": 14,
     "metadata": {},
     "output_type": "execute_result"
    }
   ],
   "source": [
    "cancer.columns"
   ]
  },
  {
   "cell_type": "code",
   "execution_count": 15,
   "id": "665cef1c",
   "metadata": {},
   "outputs": [
    {
     "data": {
      "image/png": "[encoded data removed]",
      "text/plain": [
       "<Figure size 1080x720 with 2 Axes>"
      ]
     },
     "metadata": {
      "needs_background": "light"
     },
     "output_type": "display_data"
    }
   ],
   "source": [
    "# Checking correlation\n",
    "corr = cancer.corr()\n",
    "kot = corr[corr>=.7]\n",
    "plt.figure(figsize = [15,10])\n",
    "sns.heatmap(kot, annot = True, cmap = 'YlOrRd', fmt = '0.2f')\n",
    "plt.show()"
   ]
  },
  {
   "cell_type": "code",
   "execution_count": 16,
   "id": "9c3eb455",
   "metadata": {},
   "outputs": [
    {
     "data": {
      "text/html": [
       "<div>\n",
       "<style scoped>\n",
       "    .dataframe tbody tr th:only-of-type {\n",
       "        vertical-align: middle;\n",
       "    }\n",
       "\n",
       "    .dataframe tbody tr th {\n",
       "        vertical-align: top;\n",
       "    }\n",
       "\n",
       "    .dataframe thead th {\n",
       "        text-align: right;\n",
       "    }\n",
       "</style>\n",
       "<table border=\"1\" class=\"dataframe\">\n",
       "  <thead>\n",
       "    <tr style=\"text-align: right;\">\n",
       "      <th></th>\n",
       "      <th>count</th>\n",
       "      <th>mean</th>\n",
       "      <th>std</th>\n",
       "      <th>min</th>\n",
       "      <th>1%</th>\n",
       "      <th>2%</th>\n",
       "      <th>3%</th>\n",
       "      <th>4%</th>\n",
       "      <th>5%</th>\n",
       "      <th>25%</th>\n",
       "      <th>50%</th>\n",
       "      <th>75%</th>\n",
       "      <th>95%</th>\n",
       "      <th>96%</th>\n",
       "      <th>97%</th>\n",
       "      <th>98%</th>\n",
       "      <th>99%</th>\n",
       "      <th>max</th>\n",
       "    </tr>\n",
       "  </thead>\n",
       "  <tbody>\n",
       "    <tr>\n",
       "      <th>radius_mean</th>\n",
       "      <td>569.0</td>\n",
       "      <td>14.127292</td>\n",
       "      <td>3.524049</td>\n",
       "      <td>6.981000</td>\n",
       "      <td>8.458360</td>\n",
       "      <td>8.728880</td>\n",
       "      <td>9.029520</td>\n",
       "      <td>9.379080</td>\n",
       "      <td>9.529200</td>\n",
       "      <td>11.700000</td>\n",
       "      <td>13.370000</td>\n",
       "      <td>15.780000</td>\n",
       "      <td>20.576000</td>\n",
       "      <td>20.925600</td>\n",
       "      <td>21.552400</td>\n",
       "      <td>22.794800</td>\n",
       "      <td>24.371600</td>\n",
       "      <td>28.11000</td>\n",
       "    </tr>\n",
       "    <tr>\n",
       "      <th>texture_mean</th>\n",
       "      <td>569.0</td>\n",
       "      <td>19.289649</td>\n",
       "      <td>4.301036</td>\n",
       "      <td>9.710000</td>\n",
       "      <td>10.930400</td>\n",
       "      <td>12.188000</td>\n",
       "      <td>12.711200</td>\n",
       "      <td>12.901600</td>\n",
       "      <td>13.088000</td>\n",
       "      <td>16.170000</td>\n",
       "      <td>18.840000</td>\n",
       "      <td>21.800000</td>\n",
       "      <td>27.150000</td>\n",
       "      <td>27.922000</td>\n",
       "      <td>28.209600</td>\n",
       "      <td>29.315600</td>\n",
       "      <td>30.652000</td>\n",
       "      <td>39.28000</td>\n",
       "    </tr>\n",
       "    <tr>\n",
       "      <th>perimeter_mean</th>\n",
       "      <td>569.0</td>\n",
       "      <td>91.969033</td>\n",
       "      <td>24.298981</td>\n",
       "      <td>43.790000</td>\n",
       "      <td>53.827600</td>\n",
       "      <td>55.475200</td>\n",
       "      <td>58.798800</td>\n",
       "      <td>59.800400</td>\n",
       "      <td>60.496000</td>\n",
       "      <td>75.170000</td>\n",
       "      <td>86.240000</td>\n",
       "      <td>104.100000</td>\n",
       "      <td>135.820000</td>\n",
       "      <td>139.236000</td>\n",
       "      <td>142.988000</td>\n",
       "      <td>152.100000</td>\n",
       "      <td>165.724000</td>\n",
       "      <td>188.50000</td>\n",
       "    </tr>\n",
       "    <tr>\n",
       "      <th>area_mean</th>\n",
       "      <td>569.0</td>\n",
       "      <td>654.889104</td>\n",
       "      <td>351.914129</td>\n",
       "      <td>143.500000</td>\n",
       "      <td>215.664000</td>\n",
       "      <td>232.124000</td>\n",
       "      <td>246.396000</td>\n",
       "      <td>267.456000</td>\n",
       "      <td>275.780000</td>\n",
       "      <td>420.300000</td>\n",
       "      <td>551.100000</td>\n",
       "      <td>782.700000</td>\n",
       "      <td>1309.800000</td>\n",
       "      <td>1351.760000</td>\n",
       "      <td>1418.520000</td>\n",
       "      <td>1625.360000</td>\n",
       "      <td>1786.600000</td>\n",
       "      <td>2501.00000</td>\n",
       "    </tr>\n",
       "    <tr>\n",
       "      <th>smoothness_mean</th>\n",
       "      <td>569.0</td>\n",
       "      <td>0.096360</td>\n",
       "      <td>0.014064</td>\n",
       "      <td>0.052630</td>\n",
       "      <td>0.068654</td>\n",
       "      <td>0.070126</td>\n",
       "      <td>0.073512</td>\n",
       "      <td>0.074346</td>\n",
       "      <td>0.075042</td>\n",
       "      <td>0.086370</td>\n",
       "      <td>0.095870</td>\n",
       "      <td>0.105300</td>\n",
       "      <td>0.118780</td>\n",
       "      <td>0.121656</td>\n",
       "      <td>0.123696</td>\n",
       "      <td>0.126724</td>\n",
       "      <td>0.132888</td>\n",
       "      <td>0.16340</td>\n",
       "    </tr>\n",
       "    <tr>\n",
       "      <th>compactness_mean</th>\n",
       "      <td>569.0</td>\n",
       "      <td>0.104341</td>\n",
       "      <td>0.052813</td>\n",
       "      <td>0.019380</td>\n",
       "      <td>0.033351</td>\n",
       "      <td>0.035884</td>\n",
       "      <td>0.037663</td>\n",
       "      <td>0.038614</td>\n",
       "      <td>0.040660</td>\n",
       "      <td>0.064920</td>\n",
       "      <td>0.092630</td>\n",
       "      <td>0.130400</td>\n",
       "      <td>0.208700</td>\n",
       "      <td>0.219392</td>\n",
       "      <td>0.227452</td>\n",
       "      <td>0.240688</td>\n",
       "      <td>0.277192</td>\n",
       "      <td>0.34540</td>\n",
       "    </tr>\n",
       "    <tr>\n",
       "      <th>concavity_mean</th>\n",
       "      <td>569.0</td>\n",
       "      <td>0.088799</td>\n",
       "      <td>0.079720</td>\n",
       "      <td>0.000000</td>\n",
       "      <td>0.000000</td>\n",
       "      <td>0.000000</td>\n",
       "      <td>0.001489</td>\n",
       "      <td>0.002677</td>\n",
       "      <td>0.004983</td>\n",
       "      <td>0.029560</td>\n",
       "      <td>0.061540</td>\n",
       "      <td>0.130700</td>\n",
       "      <td>0.243020</td>\n",
       "      <td>0.254640</td>\n",
       "      <td>0.286856</td>\n",
       "      <td>0.317528</td>\n",
       "      <td>0.351688</td>\n",
       "      <td>0.42680</td>\n",
       "    </tr>\n",
       "    <tr>\n",
       "      <th>concave points_mean</th>\n",
       "      <td>569.0</td>\n",
       "      <td>0.048919</td>\n",
       "      <td>0.038803</td>\n",
       "      <td>0.000000</td>\n",
       "      <td>0.000000</td>\n",
       "      <td>0.000000</td>\n",
       "      <td>0.003130</td>\n",
       "      <td>0.004874</td>\n",
       "      <td>0.005621</td>\n",
       "      <td>0.020310</td>\n",
       "      <td>0.033500</td>\n",
       "      <td>0.074000</td>\n",
       "      <td>0.125740</td>\n",
       "      <td>0.131336</td>\n",
       "      <td>0.146664</td>\n",
       "      <td>0.150292</td>\n",
       "      <td>0.164208</td>\n",
       "      <td>0.20120</td>\n",
       "    </tr>\n",
       "    <tr>\n",
       "      <th>symmetry_mean</th>\n",
       "      <td>569.0</td>\n",
       "      <td>0.181162</td>\n",
       "      <td>0.027414</td>\n",
       "      <td>0.106000</td>\n",
       "      <td>0.129508</td>\n",
       "      <td>0.134936</td>\n",
       "      <td>0.137308</td>\n",
       "      <td>0.138772</td>\n",
       "      <td>0.141500</td>\n",
       "      <td>0.161900</td>\n",
       "      <td>0.179200</td>\n",
       "      <td>0.195700</td>\n",
       "      <td>0.230720</td>\n",
       "      <td>0.237584</td>\n",
       "      <td>0.239796</td>\n",
       "      <td>0.253188</td>\n",
       "      <td>0.259564</td>\n",
       "      <td>0.30400</td>\n",
       "    </tr>\n",
       "    <tr>\n",
       "      <th>fractal_dimension_mean</th>\n",
       "      <td>569.0</td>\n",
       "      <td>0.062798</td>\n",
       "      <td>0.007060</td>\n",
       "      <td>0.049960</td>\n",
       "      <td>0.051504</td>\n",
       "      <td>0.052473</td>\n",
       "      <td>0.053072</td>\n",
       "      <td>0.053394</td>\n",
       "      <td>0.053926</td>\n",
       "      <td>0.057700</td>\n",
       "      <td>0.061540</td>\n",
       "      <td>0.066120</td>\n",
       "      <td>0.076090</td>\n",
       "      <td>0.077114</td>\n",
       "      <td>0.078173</td>\n",
       "      <td>0.080831</td>\n",
       "      <td>0.085438</td>\n",
       "      <td>0.09744</td>\n",
       "    </tr>\n",
       "    <tr>\n",
       "      <th>radius_se</th>\n",
       "      <td>569.0</td>\n",
       "      <td>0.405172</td>\n",
       "      <td>0.277313</td>\n",
       "      <td>0.111500</td>\n",
       "      <td>0.119740</td>\n",
       "      <td>0.136488</td>\n",
       "      <td>0.148556</td>\n",
       "      <td>0.154856</td>\n",
       "      <td>0.160100</td>\n",
       "      <td>0.232400</td>\n",
       "      <td>0.324200</td>\n",
       "      <td>0.478900</td>\n",
       "      <td>0.959520</td>\n",
       "      <td>0.996256</td>\n",
       "      <td>1.057520</td>\n",
       "      <td>1.170200</td>\n",
       "      <td>1.291320</td>\n",
       "      <td>2.87300</td>\n",
       "    </tr>\n",
       "    <tr>\n",
       "      <th>texture_se</th>\n",
       "      <td>569.0</td>\n",
       "      <td>1.216853</td>\n",
       "      <td>0.551648</td>\n",
       "      <td>0.360200</td>\n",
       "      <td>0.410548</td>\n",
       "      <td>0.469576</td>\n",
       "      <td>0.489264</td>\n",
       "      <td>0.502348</td>\n",
       "      <td>0.540140</td>\n",
       "      <td>0.833900</td>\n",
       "      <td>1.108000</td>\n",
       "      <td>1.474000</td>\n",
       "      <td>2.212000</td>\n",
       "      <td>2.301680</td>\n",
       "      <td>2.506200</td>\n",
       "      <td>2.656440</td>\n",
       "      <td>2.915440</td>\n",
       "      <td>4.88500</td>\n",
       "    </tr>\n",
       "    <tr>\n",
       "      <th>perimeter_se</th>\n",
       "      <td>569.0</td>\n",
       "      <td>2.866059</td>\n",
       "      <td>2.021855</td>\n",
       "      <td>0.757000</td>\n",
       "      <td>0.953248</td>\n",
       "      <td>1.019640</td>\n",
       "      <td>1.069840</td>\n",
       "      <td>1.102720</td>\n",
       "      <td>1.132800</td>\n",
       "      <td>1.606000</td>\n",
       "      <td>2.287000</td>\n",
       "      <td>3.357000</td>\n",
       "      <td>7.041600</td>\n",
       "      <td>7.255120</td>\n",
       "      <td>7.730600</td>\n",
       "      <td>8.627400</td>\n",
       "      <td>9.690040</td>\n",
       "      <td>21.98000</td>\n",
       "    </tr>\n",
       "    <tr>\n",
       "      <th>area_se</th>\n",
       "      <td>569.0</td>\n",
       "      <td>40.337079</td>\n",
       "      <td>45.491006</td>\n",
       "      <td>6.802000</td>\n",
       "      <td>8.514440</td>\n",
       "      <td>9.370160</td>\n",
       "      <td>9.842880</td>\n",
       "      <td>10.791600</td>\n",
       "      <td>11.360000</td>\n",
       "      <td>17.850000</td>\n",
       "      <td>24.530000</td>\n",
       "      <td>45.190000</td>\n",
       "      <td>115.800000</td>\n",
       "      <td>122.888000</td>\n",
       "      <td>134.728000</td>\n",
       "      <td>154.936000</td>\n",
       "      <td>177.684000</td>\n",
       "      <td>542.20000</td>\n",
       "    </tr>\n",
       "    <tr>\n",
       "      <th>smoothness_se</th>\n",
       "      <td>569.0</td>\n",
       "      <td>0.007041</td>\n",
       "      <td>0.003003</td>\n",
       "      <td>0.001713</td>\n",
       "      <td>0.003058</td>\n",
       "      <td>0.003284</td>\n",
       "      <td>0.003444</td>\n",
       "      <td>0.003603</td>\n",
       "      <td>0.003690</td>\n",
       "      <td>0.005169</td>\n",
       "      <td>0.006380</td>\n",
       "      <td>0.008146</td>\n",
       "      <td>0.012644</td>\n",
       "      <td>0.012955</td>\n",
       "      <td>0.013848</td>\n",
       "      <td>0.015280</td>\n",
       "      <td>0.017258</td>\n",
       "      <td>0.03113</td>\n",
       "    </tr>\n",
       "    <tr>\n",
       "      <th>compactness_se</th>\n",
       "      <td>569.0</td>\n",
       "      <td>0.025478</td>\n",
       "      <td>0.017908</td>\n",
       "      <td>0.002252</td>\n",
       "      <td>0.004705</td>\n",
       "      <td>0.005628</td>\n",
       "      <td>0.006099</td>\n",
       "      <td>0.006866</td>\n",
       "      <td>0.007892</td>\n",
       "      <td>0.013080</td>\n",
       "      <td>0.020450</td>\n",
       "      <td>0.032450</td>\n",
       "      <td>0.060578</td>\n",
       "      <td>0.066088</td>\n",
       "      <td>0.070548</td>\n",
       "      <td>0.080392</td>\n",
       "      <td>0.089872</td>\n",
       "      <td>0.13540</td>\n",
       "    </tr>\n",
       "    <tr>\n",
       "      <th>concavity_se</th>\n",
       "      <td>569.0</td>\n",
       "      <td>0.031894</td>\n",
       "      <td>0.030186</td>\n",
       "      <td>0.000000</td>\n",
       "      <td>0.000000</td>\n",
       "      <td>0.000000</td>\n",
       "      <td>0.001196</td>\n",
       "      <td>0.001982</td>\n",
       "      <td>0.003253</td>\n",
       "      <td>0.015090</td>\n",
       "      <td>0.025890</td>\n",
       "      <td>0.042050</td>\n",
       "      <td>0.078936</td>\n",
       "      <td>0.081787</td>\n",
       "      <td>0.092626</td>\n",
       "      <td>0.101584</td>\n",
       "      <td>0.122292</td>\n",
       "      <td>0.39600</td>\n",
       "    </tr>\n",
       "    <tr>\n",
       "      <th>concave points_se</th>\n",
       "      <td>569.0</td>\n",
       "      <td>0.011796</td>\n",
       "      <td>0.006170</td>\n",
       "      <td>0.000000</td>\n",
       "      <td>0.000000</td>\n",
       "      <td>0.000000</td>\n",
       "      <td>0.002948</td>\n",
       "      <td>0.003457</td>\n",
       "      <td>0.003831</td>\n",
       "      <td>0.007638</td>\n",
       "      <td>0.010930</td>\n",
       "      <td>0.014710</td>\n",
       "      <td>0.022884</td>\n",
       "      <td>0.024557</td>\n",
       "      <td>0.025907</td>\n",
       "      <td>0.027688</td>\n",
       "      <td>0.031194</td>\n",
       "      <td>0.05279</td>\n",
       "    </tr>\n",
       "    <tr>\n",
       "      <th>symmetry_se</th>\n",
       "      <td>569.0</td>\n",
       "      <td>0.020542</td>\n",
       "      <td>0.008266</td>\n",
       "      <td>0.007882</td>\n",
       "      <td>0.010547</td>\n",
       "      <td>0.010690</td>\n",
       "      <td>0.011034</td>\n",
       "      <td>0.011447</td>\n",
       "      <td>0.011758</td>\n",
       "      <td>0.015160</td>\n",
       "      <td>0.018730</td>\n",
       "      <td>0.023480</td>\n",
       "      <td>0.034988</td>\n",
       "      <td>0.037568</td>\n",
       "      <td>0.040748</td>\n",
       "      <td>0.044936</td>\n",
       "      <td>0.052208</td>\n",
       "      <td>0.07895</td>\n",
       "    </tr>\n",
       "    <tr>\n",
       "      <th>fractal_dimension_se</th>\n",
       "      <td>569.0</td>\n",
       "      <td>0.003795</td>\n",
       "      <td>0.002646</td>\n",
       "      <td>0.000895</td>\n",
       "      <td>0.001114</td>\n",
       "      <td>0.001321</td>\n",
       "      <td>0.001367</td>\n",
       "      <td>0.001456</td>\n",
       "      <td>0.001522</td>\n",
       "      <td>0.002248</td>\n",
       "      <td>0.003187</td>\n",
       "      <td>0.004558</td>\n",
       "      <td>0.007960</td>\n",
       "      <td>0.008745</td>\n",
       "      <td>0.009624</td>\n",
       "      <td>0.011415</td>\n",
       "      <td>0.012650</td>\n",
       "      <td>0.02984</td>\n",
       "    </tr>\n",
       "    <tr>\n",
       "      <th>radius_worst</th>\n",
       "      <td>569.0</td>\n",
       "      <td>16.269190</td>\n",
       "      <td>4.833242</td>\n",
       "      <td>7.930000</td>\n",
       "      <td>9.207600</td>\n",
       "      <td>9.587680</td>\n",
       "      <td>9.968520</td>\n",
       "      <td>10.266000</td>\n",
       "      <td>10.534000</td>\n",
       "      <td>13.010000</td>\n",
       "      <td>14.970000</td>\n",
       "      <td>18.790000</td>\n",
       "      <td>25.640000</td>\n",
       "      <td>26.053600</td>\n",
       "      <td>27.296400</td>\n",
       "      <td>28.324400</td>\n",
       "      <td>30.762800</td>\n",
       "      <td>36.04000</td>\n",
       "    </tr>\n",
       "    <tr>\n",
       "      <th>texture_worst</th>\n",
       "      <td>569.0</td>\n",
       "      <td>25.677223</td>\n",
       "      <td>6.146258</td>\n",
       "      <td>12.020000</td>\n",
       "      <td>15.200800</td>\n",
       "      <td>15.663600</td>\n",
       "      <td>15.922000</td>\n",
       "      <td>16.336000</td>\n",
       "      <td>16.574000</td>\n",
       "      <td>21.080000</td>\n",
       "      <td>25.410000</td>\n",
       "      <td>29.720000</td>\n",
       "      <td>36.300000</td>\n",
       "      <td>37.138400</td>\n",
       "      <td>38.043200</td>\n",
       "      <td>39.275200</td>\n",
       "      <td>41.802400</td>\n",
       "      <td>49.54000</td>\n",
       "    </tr>\n",
       "    <tr>\n",
       "      <th>perimeter_worst</th>\n",
       "      <td>569.0</td>\n",
       "      <td>107.261213</td>\n",
       "      <td>33.602542</td>\n",
       "      <td>50.410000</td>\n",
       "      <td>58.270400</td>\n",
       "      <td>62.361600</td>\n",
       "      <td>64.506000</td>\n",
       "      <td>66.287200</td>\n",
       "      <td>67.856000</td>\n",
       "      <td>84.110000</td>\n",
       "      <td>97.660000</td>\n",
       "      <td>125.400000</td>\n",
       "      <td>171.640000</td>\n",
       "      <td>177.736000</td>\n",
       "      <td>184.584000</td>\n",
       "      <td>195.576000</td>\n",
       "      <td>208.304000</td>\n",
       "      <td>251.20000</td>\n",
       "    </tr>\n",
       "    <tr>\n",
       "      <th>area_worst</th>\n",
       "      <td>569.0</td>\n",
       "      <td>880.583128</td>\n",
       "      <td>569.356993</td>\n",
       "      <td>185.200000</td>\n",
       "      <td>256.192000</td>\n",
       "      <td>278.768000</td>\n",
       "      <td>300.232000</td>\n",
       "      <td>316.412000</td>\n",
       "      <td>331.060000</td>\n",
       "      <td>515.300000</td>\n",
       "      <td>686.500000</td>\n",
       "      <td>1084.000000</td>\n",
       "      <td>2009.600000</td>\n",
       "      <td>2075.240000</td>\n",
       "      <td>2231.800000</td>\n",
       "      <td>2491.080000</td>\n",
       "      <td>2918.160000</td>\n",
       "      <td>4254.00000</td>\n",
       "    </tr>\n",
       "    <tr>\n",
       "      <th>smoothness_worst</th>\n",
       "      <td>569.0</td>\n",
       "      <td>0.132369</td>\n",
       "      <td>0.022832</td>\n",
       "      <td>0.071170</td>\n",
       "      <td>0.087910</td>\n",
       "      <td>0.090878</td>\n",
       "      <td>0.093686</td>\n",
       "      <td>0.094342</td>\n",
       "      <td>0.095734</td>\n",
       "      <td>0.116600</td>\n",
       "      <td>0.131300</td>\n",
       "      <td>0.146000</td>\n",
       "      <td>0.171840</td>\n",
       "      <td>0.177052</td>\n",
       "      <td>0.178888</td>\n",
       "      <td>0.185228</td>\n",
       "      <td>0.188908</td>\n",
       "      <td>0.22260</td>\n",
       "    </tr>\n",
       "    <tr>\n",
       "      <th>compactness_worst</th>\n",
       "      <td>569.0</td>\n",
       "      <td>0.254265</td>\n",
       "      <td>0.157336</td>\n",
       "      <td>0.027290</td>\n",
       "      <td>0.050094</td>\n",
       "      <td>0.054626</td>\n",
       "      <td>0.064453</td>\n",
       "      <td>0.067778</td>\n",
       "      <td>0.071196</td>\n",
       "      <td>0.147200</td>\n",
       "      <td>0.211900</td>\n",
       "      <td>0.339100</td>\n",
       "      <td>0.564120</td>\n",
       "      <td>0.592260</td>\n",
       "      <td>0.616184</td>\n",
       "      <td>0.687424</td>\n",
       "      <td>0.778644</td>\n",
       "      <td>1.05800</td>\n",
       "    </tr>\n",
       "    <tr>\n",
       "      <th>concavity_worst</th>\n",
       "      <td>569.0</td>\n",
       "      <td>0.272188</td>\n",
       "      <td>0.208624</td>\n",
       "      <td>0.000000</td>\n",
       "      <td>0.000000</td>\n",
       "      <td>0.000000</td>\n",
       "      <td>0.005633</td>\n",
       "      <td>0.012028</td>\n",
       "      <td>0.018360</td>\n",
       "      <td>0.114500</td>\n",
       "      <td>0.226700</td>\n",
       "      <td>0.382900</td>\n",
       "      <td>0.682380</td>\n",
       "      <td>0.696580</td>\n",
       "      <td>0.723708</td>\n",
       "      <td>0.783260</td>\n",
       "      <td>0.902380</td>\n",
       "      <td>1.25200</td>\n",
       "    </tr>\n",
       "    <tr>\n",
       "      <th>concave points_worst</th>\n",
       "      <td>569.0</td>\n",
       "      <td>0.114606</td>\n",
       "      <td>0.065732</td>\n",
       "      <td>0.000000</td>\n",
       "      <td>0.000000</td>\n",
       "      <td>0.000000</td>\n",
       "      <td>0.011221</td>\n",
       "      <td>0.020659</td>\n",
       "      <td>0.024286</td>\n",
       "      <td>0.064930</td>\n",
       "      <td>0.099930</td>\n",
       "      <td>0.161400</td>\n",
       "      <td>0.236920</td>\n",
       "      <td>0.244040</td>\n",
       "      <td>0.250796</td>\n",
       "      <td>0.258652</td>\n",
       "      <td>0.269216</td>\n",
       "      <td>0.29100</td>\n",
       "    </tr>\n",
       "    <tr>\n",
       "      <th>symmetry_worst</th>\n",
       "      <td>569.0</td>\n",
       "      <td>0.290076</td>\n",
       "      <td>0.061867</td>\n",
       "      <td>0.156500</td>\n",
       "      <td>0.176028</td>\n",
       "      <td>0.190136</td>\n",
       "      <td>0.198704</td>\n",
       "      <td>0.208160</td>\n",
       "      <td>0.212700</td>\n",
       "      <td>0.250400</td>\n",
       "      <td>0.282200</td>\n",
       "      <td>0.317900</td>\n",
       "      <td>0.406160</td>\n",
       "      <td>0.417192</td>\n",
       "      <td>0.436216</td>\n",
       "      <td>0.467448</td>\n",
       "      <td>0.486908</td>\n",
       "      <td>0.66380</td>\n",
       "    </tr>\n",
       "    <tr>\n",
       "      <th>fractal_dimension_worst</th>\n",
       "      <td>569.0</td>\n",
       "      <td>0.083946</td>\n",
       "      <td>0.018061</td>\n",
       "      <td>0.055040</td>\n",
       "      <td>0.058580</td>\n",
       "      <td>0.059727</td>\n",
       "      <td>0.060852</td>\n",
       "      <td>0.061647</td>\n",
       "      <td>0.062558</td>\n",
       "      <td>0.071460</td>\n",
       "      <td>0.080040</td>\n",
       "      <td>0.092080</td>\n",
       "      <td>0.119520</td>\n",
       "      <td>0.123496</td>\n",
       "      <td>0.125200</td>\n",
       "      <td>0.132388</td>\n",
       "      <td>0.140628</td>\n",
       "      <td>0.20750</td>\n",
       "    </tr>\n",
       "  </tbody>\n",
       "</table>\n",
       "</div>"
      ],
      "text/plain": [
       "                         count        mean         std         min  \\\n",
       "radius_mean              569.0   14.127292    3.524049    6.981000   \n",
       "texture_mean             569.0   19.289649    4.301036    9.710000   \n",
       "perimeter_mean           569.0   91.969033   24.298981   43.790000   \n",
       "area_mean                569.0  654.889104  351.914129  143.500000   \n",
       "smoothness_mean          569.0    0.096360    0.014064    0.052630   \n",
       "compactness_mean         569.0    0.104341    0.052813    0.019380   \n",
       "concavity_mean           569.0    0.088799    0.079720    0.000000   \n",
       "concave points_mean      569.0    0.048919    0.038803    0.000000   \n",
       "symmetry_mean            569.0    0.181162    0.027414    0.106000   \n",
       "fractal_dimension_mean   569.0    0.062798    0.007060    0.049960   \n",
       "radius_se                569.0    0.405172    0.277313    0.111500   \n",
       "texture_se               569.0    1.216853    0.551648    0.360200   \n",
       "perimeter_se             569.0    2.866059    2.021855    0.757000   \n",
       "area_se                  569.0   40.337079   45.491006    6.802000   \n",
       "smoothness_se            569.0    0.007041    0.003003    0.001713   \n",
       "compactness_se           569.0    0.025478    0.017908    0.002252   \n",
       "concavity_se             569.0    0.031894    0.030186    0.000000   \n",
       "concave points_se        569.0    0.011796    0.006170    0.000000   \n",
       "symmetry_se              569.0    0.020542    0.008266    0.007882   \n",
       "fractal_dimension_se     569.0    0.003795    0.002646    0.000895   \n",
       "radius_worst             569.0   16.269190    4.833242    7.930000   \n",
       "texture_worst            569.0   25.677223    6.146258   12.020000   \n",
       "perimeter_worst          569.0  107.261213   33.602542   50.410000   \n",
       "area_worst               569.0  880.583128  569.356993  185.200000   \n",
       "smoothness_worst         569.0    0.132369    0.022832    0.071170   \n",
       "compactness_worst        569.0    0.254265    0.157336    0.027290   \n",
       "concavity_worst          569.0    0.272188    0.208624    0.000000   \n",
       "concave points_worst     569.0    0.114606    0.065732    0.000000   \n",
       "symmetry_worst           569.0    0.290076    0.061867    0.156500   \n",
       "fractal_dimension_worst  569.0    0.083946    0.018061    0.055040   \n",
       "\n",
       "                                 1%          2%          3%          4%  \\\n",
       "radius_mean                8.458360    8.728880    9.029520    9.379080   \n",
       "texture_mean              10.930400   12.188000   12.711200   12.901600   \n",
       "perimeter_mean            53.827600   55.475200   58.798800   59.800400   \n",
       "area_mean                215.664000  232.124000  246.396000  267.456000   \n",
       "smoothness_mean            0.068654    0.070126    0.073512    0.074346   \n",
       "compactness_mean           0.033351    0.035884    0.037663    0.038614   \n",
       "concavity_mean             0.000000    0.000000    0.001489    0.002677   \n",
       "concave points_mean        0.000000    0.000000    0.003130    0.004874   \n",
       "symmetry_mean              0.129508    0.134936    0.137308    0.138772   \n",
       "fractal_dimension_mean     0.051504    0.052473    0.053072    0.053394   \n",
       "radius_se                  0.119740    0.136488    0.148556    0.154856   \n",
       "texture_se                 0.410548    0.469576    0.489264    0.502348   \n",
       "perimeter_se               0.953248    1.019640    1.069840    1.102720   \n",
       "area_se                    8.514440    9.370160    9.842880   10.791600   \n",
       "smoothness_se              0.003058    0.003284    0.003444    0.003603   \n",
       "compactness_se             0.004705    0.005628    0.006099    0.006866   \n",
       "concavity_se               0.000000    0.000000    0.001196    0.001982   \n",
       "concave points_se          0.000000    0.000000    0.002948    0.003457   \n",
       "symmetry_se                0.010547    0.010690    0.011034    0.011447   \n",
       "fractal_dimension_se       0.001114    0.001321    0.001367    0.001456   \n",
       "radius_worst               9.207600    9.587680    9.968520   10.266000   \n",
       "texture_worst             15.200800   15.663600   15.922000   16.336000   \n",
       "perimeter_worst           58.270400   62.361600   64.506000   66.287200   \n",
       "area_worst               256.192000  278.768000  300.232000  316.412000   \n",
       "smoothness_worst           0.087910    0.090878    0.093686    0.094342   \n",
       "compactness_worst          0.050094    0.054626    0.064453    0.067778   \n",
       "concavity_worst            0.000000    0.000000    0.005633    0.012028   \n",
       "concave points_worst       0.000000    0.000000    0.011221    0.020659   \n",
       "symmetry_worst             0.176028    0.190136    0.198704    0.208160   \n",
       "fractal_dimension_worst    0.058580    0.059727    0.060852    0.061647   \n",
       "\n",
       "                                 5%         25%         50%          75%  \\\n",
       "radius_mean                9.529200   11.700000   13.370000    15.780000   \n",
       "texture_mean              13.088000   16.170000   18.840000    21.800000   \n",
       "perimeter_mean            60.496000   75.170000   86.240000   104.100000   \n",
       "area_mean                275.780000  420.300000  551.100000   782.700000   \n",
       "smoothness_mean            0.075042    0.086370    0.095870     0.105300   \n",
       "compactness_mean           0.040660    0.064920    0.092630     0.130400   \n",
       "concavity_mean             0.004983    0.029560    0.061540     0.130700   \n",
       "concave points_mean        0.005621    0.020310    0.033500     0.074000   \n",
       "symmetry_mean              0.141500    0.161900    0.179200     0.195700   \n",
       "fractal_dimension_mean     0.053926    0.057700    0.061540     0.066120   \n",
       "radius_se                  0.160100    0.232400    0.324200     0.478900   \n",
       "texture_se                 0.540140    0.833900    1.108000     1.474000   \n",
       "perimeter_se               1.132800    1.606000    2.287000     3.357000   \n",
       "area_se                   11.360000   17.850000   24.530000    45.190000   \n",
       "smoothness_se              0.003690    0.005169    0.006380     0.008146   \n",
       "compactness_se             0.007892    0.013080    0.020450     0.032450   \n",
       "concavity_se               0.003253    0.015090    0.025890     0.042050   \n",
       "concave points_se          0.003831    0.007638    0.010930     0.014710   \n",
       "symmetry_se                0.011758    0.015160    0.018730     0.023480   \n",
       "fractal_dimension_se       0.001522    0.002248    0.003187     0.004558   \n",
       "radius_worst              10.534000   13.010000   14.970000    18.790000   \n",
       "texture_worst             16.574000   21.080000   25.410000    29.720000   \n",
       "perimeter_worst           67.856000   84.110000   97.660000   125.400000   \n",
       "area_worst               331.060000  515.300000  686.500000  1084.000000   \n",
       "smoothness_worst           0.095734    0.116600    0.131300     0.146000   \n",
       "compactness_worst          0.071196    0.147200    0.211900     0.339100   \n",
       "concavity_worst            0.018360    0.114500    0.226700     0.382900   \n",
       "concave points_worst       0.024286    0.064930    0.099930     0.161400   \n",
       "symmetry_worst             0.212700    0.250400    0.282200     0.317900   \n",
       "fractal_dimension_worst    0.062558    0.071460    0.080040     0.092080   \n",
       "\n",
       "                                 95%          96%          97%          98%  \\\n",
       "radius_mean                20.576000    20.925600    21.552400    22.794800   \n",
       "texture_mean               27.150000    27.922000    28.209600    29.315600   \n",
       "perimeter_mean            135.820000   139.236000   142.988000   152.100000   \n",
       "area_mean                1309.800000  1351.760000  1418.520000  1625.360000   \n",
       "smoothness_mean             0.118780     0.121656     0.123696     0.126724   \n",
       "compactness_mean            0.208700     0.219392     0.227452     0.240688   \n",
       "concavity_mean              0.243020     0.254640     0.286856     0.317528   \n",
       "concave points_mean         0.125740     0.131336     0.146664     0.150292   \n",
       "symmetry_mean               0.230720     0.237584     0.239796     0.253188   \n",
       "fractal_dimension_mean      0.076090     0.077114     0.078173     0.080831   \n",
       "radius_se                   0.959520     0.996256     1.057520     1.170200   \n",
       "texture_se                  2.212000     2.301680     2.506200     2.656440   \n",
       "perimeter_se                7.041600     7.255120     7.730600     8.627400   \n",
       "area_se                   115.800000   122.888000   134.728000   154.936000   \n",
       "smoothness_se               0.012644     0.012955     0.013848     0.015280   \n",
       "compactness_se              0.060578     0.066088     0.070548     0.080392   \n",
       "concavity_se                0.078936     0.081787     0.092626     0.101584   \n",
       "concave points_se           0.022884     0.024557     0.025907     0.027688   \n",
       "symmetry_se                 0.034988     0.037568     0.040748     0.044936   \n",
       "fractal_dimension_se        0.007960     0.008745     0.009624     0.011415   \n",
       "radius_worst               25.640000    26.053600    27.296400    28.324400   \n",
       "texture_worst              36.300000    37.138400    38.043200    39.275200   \n",
       "perimeter_worst           171.640000   177.736000   184.584000   195.576000   \n",
       "area_worst               2009.600000  2075.240000  2231.800000  2491.080000   \n",
       "smoothness_worst            0.171840     0.177052     0.178888     0.185228   \n",
       "compactness_worst           0.564120     0.592260     0.616184     0.687424   \n",
       "concavity_worst             0.682380     0.696580     0.723708     0.783260   \n",
       "concave points_worst        0.236920     0.244040     0.250796     0.258652   \n",
       "symmetry_worst              0.406160     0.417192     0.436216     0.467448   \n",
       "fractal_dimension_worst     0.119520     0.123496     0.125200     0.132388   \n",
       "\n",
       "                                 99%         max  \n",
       "radius_mean                24.371600    28.11000  \n",
       "texture_mean               30.652000    39.28000  \n",
       "perimeter_mean            165.724000   188.50000  \n",
       "area_mean                1786.600000  2501.00000  \n",
       "smoothness_mean             0.132888     0.16340  \n",
       "compactness_mean            0.277192     0.34540  \n",
       "concavity_mean              0.351688     0.42680  \n",
       "concave points_mean         0.164208     0.20120  \n",
       "symmetry_mean               0.259564     0.30400  \n",
       "fractal_dimension_mean      0.085438     0.09744  \n",
       "radius_se                   1.291320     2.87300  \n",
       "texture_se                  2.915440     4.88500  \n",
       "perimeter_se                9.690040    21.98000  \n",
       "area_se                   177.684000   542.20000  \n",
       "smoothness_se               0.017258     0.03113  \n",
       "compactness_se              0.089872     0.13540  \n",
       "concavity_se                0.122292     0.39600  \n",
       "concave points_se           0.031194     0.05279  \n",
       "symmetry_se                 0.052208     0.07895  \n",
       "fractal_dimension_se        0.012650     0.02984  \n",
       "radius_worst               30.762800    36.04000  \n",
       "texture_worst              41.802400    49.54000  \n",
       "perimeter_worst           208.304000   251.20000  \n",
       "area_worst               2918.160000  4254.00000  \n",
       "smoothness_worst            0.188908     0.22260  \n",
       "compactness_worst           0.778644     1.05800  \n",
       "concavity_worst             0.902380     1.25200  \n",
       "concave points_worst        0.269216     0.29100  \n",
       "symmetry_worst              0.486908     0.66380  \n",
       "fractal_dimension_worst     0.140628     0.20750  "
      ]
     },
     "execution_count": 16,
     "metadata": {},
     "output_type": "execute_result"
    }
   ],
   "source": [
    "# Checking Outliers\n",
    "cancer.describe(percentiles = [0.01, 0.02, 0.03, 0.04, 0.05, 0.25, 0.5, 0.75, 0.95, 0.96, 0.97, 0.98, 0.99]).T"
   ]
  },
  {
   "cell_type": "code",
   "execution_count": 17,
   "id": "4d6207a4",
   "metadata": {},
   "outputs": [],
   "source": [
    "def outliers(x):\n",
    "    x=x.clip(upper=x.quantile(.99))\n",
    "    x=x.clip(lower=x.quantile(.01))\n",
    "    return x "
   ]
  },
  {
   "cell_type": "code",
   "execution_count": 18,
   "id": "57a07445",
   "metadata": {},
   "outputs": [],
   "source": [
    "cancer1 = cancer.copy()\n",
    "cancer1.drop(['diagnosis'], axis = 1, inplace = True)"
   ]
  },
  {
   "cell_type": "code",
   "execution_count": 19,
   "id": "5764dbfe",
   "metadata": {},
   "outputs": [],
   "source": [
    "cancer1 = cancer1.apply(lambda x : outliers(x))"
   ]
  },
  {
   "cell_type": "code",
   "execution_count": 20,
   "id": "dacc723d",
   "metadata": {},
   "outputs": [],
   "source": [
    "target = cancer['diagnosis']"
   ]
  },
  {
   "cell_type": "code",
   "execution_count": 21,
   "id": "04a379f1",
   "metadata": {},
   "outputs": [],
   "source": [
    "cancer_cleaned = pd.concat([target, cancer1], axis = 1)"
   ]
  },
  {
   "cell_type": "code",
   "execution_count": 22,
   "id": "cae5ca09",
   "metadata": {},
   "outputs": [],
   "source": [
    "cancer_dummy = pd.get_dummies(cancer_cleaned, drop_first=True)"
   ]
  },
  {
   "cell_type": "code",
   "execution_count": 23,
   "id": "9955964a",
   "metadata": {},
   "outputs": [],
   "source": [
    "y = cancer_dummy['diagnosis_1']\n",
    "x = cancer_dummy.drop(columns=['diagnosis_1'])"
   ]
  },
  {
   "cell_type": "code",
   "execution_count": 24,
   "id": "152cc1cf",
   "metadata": {},
   "outputs": [],
   "source": [
    "x_train, x_test, y_train, y_test=train_test_split(x,y,test_size=0.25, random_state=1)"
   ]
  },
  {
   "cell_type": "markdown",
   "id": "d695c03b",
   "metadata": {},
   "source": [
    "#### Feature Scaling"
   ]
  },
  {
   "cell_type": "code",
   "execution_count": 25,
   "id": "3a05e91c",
   "metadata": {},
   "outputs": [],
   "source": [
    "sc = StandardScaler()\n",
    "sc_fit = sc.fit(x_train)\n",
    "\n",
    "x_train_sc = sc_fit.transform(x_train)\n",
    "x_test_sc = sc_fit.transform(x_test)"
   ]
  },
  {
   "cell_type": "code",
   "execution_count": 26,
   "id": "3c1a1ad4",
   "metadata": {},
   "outputs": [],
   "source": [
    "x_train_sc_df = pd.DataFrame(x_train_sc, columns=x_train.columns)\n",
    "x_test_sc_df = pd.DataFrame(x_test_sc, columns=x_test.columns)"
   ]
  },
  {
   "cell_type": "markdown",
   "id": "3d9d6d3a",
   "metadata": {},
   "source": [
    "### Support Vector Machine"
   ]
  },
  {
   "cell_type": "code",
   "execution_count": 26,
   "id": "0e7a043c",
   "metadata": {},
   "outputs": [
    {
     "name": "stdout",
     "output_type": "stream",
     "text": [
      "Fitting 10 folds for each of 216 candidates, totalling 2160 fits\n"
     ]
    },
    {
     "data": {
      "text/plain": [
       "GridSearchCV(cv=10, estimator=SVC(), n_jobs=-1,\n",
       "             param_grid={'C': [0.001, 0.01, 0.1, 1, 10, 100],\n",
       "                         'degree': [1, 2, 3, 4], 'gamma': [0.1, 1, 0.001],\n",
       "                         'kernel': ['linear', 'poly', 'rbf']},\n",
       "             verbose=True)"
      ]
     },
     "execution_count": 26,
     "metadata": {},
     "output_type": "execute_result"
    }
   ],
   "source": [
    "# Using GridSearchCV for hyperparameter tuning\n",
    "from sklearn.model_selection import GridSearchCV\n",
    "\n",
    "params = {\"kernel\":['linear', 'poly', 'rbf'],\n",
    "       \"degree\":[1,2,3,4],\n",
    "       \"gamma\":[0.1, 1,.001],\n",
    "       \"C\":[0.001, 0.01, 0.1, 1, 10, 100]}\n",
    "\n",
    "sv = svm.SVC()\n",
    "svm_rs = GridSearchCV(sv, params, cv=10, n_jobs=-1, verbose=True)\n",
    "svm_rs.fit(x_train_sc_df, y_train)"
   ]
  },
  {
   "cell_type": "code",
   "execution_count": 27,
   "id": "710f85c8",
   "metadata": {},
   "outputs": [
    {
     "data": {
      "text/plain": [
       "{'C': 100, 'degree': 1, 'gamma': 0.001, 'kernel': 'rbf'}"
      ]
     },
     "execution_count": 27,
     "metadata": {},
     "output_type": "execute_result"
    }
   ],
   "source": [
    "svm_rs.best_params_"
   ]
  },
  {
   "cell_type": "code",
   "execution_count": 27,
   "id": "614b7d13",
   "metadata": {},
   "outputs": [
    {
     "name": "stdout",
     "output_type": "stream",
     "text": [
      "Train score : 0.9882629107981221\n",
      "Test score : 0.965034965034965\n",
      "Time Taken 0.024712324142456055 sec\n"
     ]
    }
   ],
   "source": [
    "import time\n",
    "\n",
    "st = time.time()\n",
    "\n",
    "sv1 = svm.SVC(kernel=\"rbf\", degree=1,gamma=0.001, C=100, probability=True)\n",
    "\n",
    "sv1.fit(x_train_sc_df, y_train)\n",
    "\n",
    "print(\"Train score :\", sv1.score(x_train_sc_df, y_train))\n",
    "print(\"Test score :\", sv1.score(x_test_sc_df, y_test))\n",
    "\n",
    "et = time.time()\n",
    "print(\"Time Taken\", et-st, \"sec\")"
   ]
  },
  {
   "cell_type": "markdown",
   "id": "ea57ddb7",
   "metadata": {},
   "source": [
    "#### Model Evalutaion"
   ]
  },
  {
   "cell_type": "code",
   "execution_count": 28,
   "id": "2ea2b467",
   "metadata": {},
   "outputs": [],
   "source": [
    "pred_train = sv1.predict(x_train_sc_df)\n",
    "pred_test = sv1.predict(x_test_sc_df)"
   ]
  },
  {
   "cell_type": "code",
   "execution_count": 29,
   "id": "6cec2218",
   "metadata": {},
   "outputs": [
    {
     "name": "stdout",
     "output_type": "stream",
     "text": [
      "              precision    recall  f1-score   support\n",
      "\n",
      "           0       0.99      1.00      0.99       269\n",
      "           1       0.99      0.97      0.98       157\n",
      "\n",
      "    accuracy                           0.99       426\n",
      "   macro avg       0.99      0.99      0.99       426\n",
      "weighted avg       0.99      0.99      0.99       426\n",
      "\n"
     ]
    }
   ],
   "source": [
    "print(metrics.classification_report(y_train, pred_train))"
   ]
  },
  {
   "cell_type": "code",
   "execution_count": 30,
   "id": "9e4f4cdf",
   "metadata": {},
   "outputs": [
    {
     "name": "stdout",
     "output_type": "stream",
     "text": [
      "              precision    recall  f1-score   support\n",
      "\n",
      "           0       0.96      0.99      0.97        88\n",
      "           1       0.98      0.93      0.95        55\n",
      "\n",
      "    accuracy                           0.97       143\n",
      "   macro avg       0.97      0.96      0.96       143\n",
      "weighted avg       0.97      0.97      0.96       143\n",
      "\n"
     ]
    }
   ],
   "source": [
    "print(metrics.classification_report(y_test, pred_test))"
   ]
  },
  {
   "cell_type": "code",
   "execution_count": 31,
   "id": "6eab9f6c",
   "metadata": {},
   "outputs": [
    {
     "data": {
      "image/png": "[encoded data removed]",
      "text/plain": [
       "<Figure size 432x288 with 1 Axes>"
      ]
     },
     "metadata": {
      "needs_background": "light"
     },
     "output_type": "display_data"
    }
   ],
   "source": [
    "y_pred_proba = sv1.predict_proba(x_test_sc_df)[::,1]\n",
    "fpr, tpr, _ = metrics.roc_curve(y_test, y_pred_proba)\n",
    "auc = metrics.roc_auc_score(y_test, y_pred_proba)\n",
    "plt.plot(fpr,tpr,label=\"data 1, auc=\"+str(auc))\n",
    "plt.legend(loc=4)\n",
    "plt.show()"
   ]
  },
  {
   "cell_type": "code",
   "execution_count": 32,
   "id": "1ac7660a",
   "metadata": {},
   "outputs": [
    {
     "data": {
      "text/html": [
       "<div>\n",
       "<style scoped>\n",
       "    .dataframe tbody tr th:only-of-type {\n",
       "        vertical-align: middle;\n",
       "    }\n",
       "\n",
       "    .dataframe tbody tr th {\n",
       "        vertical-align: top;\n",
       "    }\n",
       "\n",
       "    .dataframe thead th {\n",
       "        text-align: right;\n",
       "    }\n",
       "</style>\n",
       "<table border=\"1\" class=\"dataframe\">\n",
       "  <thead>\n",
       "    <tr style=\"text-align: right;\">\n",
       "      <th></th>\n",
       "      <th>Model</th>\n",
       "      <th>ROC Score</th>\n",
       "      <th>Precision Score</th>\n",
       "      <th>Recall Score</th>\n",
       "      <th>F1 Score</th>\n",
       "      <th>Accuracy Score</th>\n",
       "    </tr>\n",
       "  </thead>\n",
       "  <tbody>\n",
       "    <tr>\n",
       "      <th>0</th>\n",
       "      <td>Support Vector Machine</td>\n",
       "      <td>0.957955</td>\n",
       "      <td>0.980769</td>\n",
       "      <td>0.927273</td>\n",
       "      <td>0.953271</td>\n",
       "      <td>0.965035</td>\n",
       "    </tr>\n",
       "  </tbody>\n",
       "</table>\n",
       "</div>"
      ],
      "text/plain": [
       "                      Model  ROC Score  Precision Score  Recall Score  \\\n",
       "0   Support Vector Machine    0.957955         0.980769      0.927273   \n",
       "\n",
       "   F1 Score  Accuracy Score  \n",
       "0  0.953271        0.965035  "
      ]
     },
     "execution_count": 32,
     "metadata": {},
     "output_type": "execute_result"
    }
   ],
   "source": [
    "model_report = pd.DataFrame()\n",
    "\n",
    "tmp = pd.Series({'Model': \" Support Vector Machine \",\n",
    "                 'ROC Score' : metrics.roc_auc_score(y_test, pred_test),\n",
    "                 'Precision Score': metrics.precision_score(y_test, pred_test),\n",
    "                 'Recall Score': metrics.recall_score(y_test, pred_test),\n",
    "                 'F1 Score' : metrics.f1_score(y_test, pred_test),\n",
    "                 'Accuracy Score': metrics.accuracy_score(y_test, pred_test)})\n",
    "\n",
    "model_svm_report = model_report.append(tmp, ignore_index = True)\n",
    "model_svm_report"
   ]
  },
  {
   "cell_type": "markdown",
   "id": "f029e3ff",
   "metadata": {},
   "source": [
    "### Random Forest Classifier"
   ]
  },
  {
   "cell_type": "code",
   "execution_count": 34,
   "id": "91868fe4",
   "metadata": {},
   "outputs": [
    {
     "name": "stdout",
     "output_type": "stream",
     "text": [
      "Fitting 5 folds for each of 768 candidates, totalling 3840 fits\n"
     ]
    },
    {
     "data": {
      "text/plain": [
       "GridSearchCV(cv=5, estimator=RandomForestClassifier(random_state=42), n_jobs=-1,\n",
       "             param_grid={'bootstrap': [True, False],\n",
       "                         'criterion': ['entropy', 'gini'],\n",
       "                         'max_depth': [3, 5, 7, 9],\n",
       "                         'max_features': ['auto', 'log2', None],\n",
       "                         'min_samples_split': [10, 15, 20, 25],\n",
       "                         'n_estimators': [25, 50, 100, 150]},\n",
       "             verbose=1)"
      ]
     },
     "execution_count": 34,
     "metadata": {},
     "output_type": "execute_result"
    }
   ],
   "source": [
    "param_dist = {'max_depth':[3,5,7,9],\n",
    "              'min_samples_split':[10,15,20,25],\n",
    "              'n_estimators':[25,50,100,150],\n",
    "              'bootstrap': [True, False],\n",
    "              'max_features': ['auto', 'log2', None],\n",
    "              'criterion': ['entropy', 'gini']}\n",
    "\n",
    "fit_rf = RandomForestClassifier(random_state=42)\n",
    "\n",
    "cv_rf = GridSearchCV(fit_rf, cv = 5, param_grid= param_dist, n_jobs = -1, verbose=1)\n",
    "\n",
    "cv_rf.fit(x_train_sc_df, y_train)"
   ]
  },
  {
   "cell_type": "code",
   "execution_count": 35,
   "id": "554b1c41",
   "metadata": {},
   "outputs": [
    {
     "data": {
      "text/plain": [
       "{'bootstrap': False,\n",
       " 'criterion': 'entropy',\n",
       " 'max_depth': 7,\n",
       " 'max_features': 'log2',\n",
       " 'min_samples_split': 20,\n",
       " 'n_estimators': 50}"
      ]
     },
     "execution_count": 35,
     "metadata": {},
     "output_type": "execute_result"
    }
   ],
   "source": [
    "cv_rf.best_params_"
   ]
  },
  {
   "cell_type": "code",
   "execution_count": 33,
   "id": "74ba94c4",
   "metadata": {},
   "outputs": [
    {
     "name": "stdout",
     "output_type": "stream",
     "text": [
      "Train Accuracy : 0.9976525821596244\n",
      "Test Accuracy : 0.958041958041958\n"
     ]
    }
   ],
   "source": [
    "rf =RandomForestClassifier(n_estimators = 50,\n",
    "                           max_depth = 7, \n",
    "                           criterion = 'entropy',\n",
    "                           min_samples_split = 20,\n",
    "                           max_features = 'log2',\n",
    "                           bootstrap = False)\n",
    "\n",
    "rf.fit(x_train_sc_df, y_train)\n",
    "\n",
    "print(\"Train Accuracy :\", rf.score(x_train_sc_df,y_train))\n",
    "print(\"Test Accuracy :\", rf.score(x_test_sc_df,y_test))"
   ]
  },
  {
   "cell_type": "markdown",
   "id": "eda78a12",
   "metadata": {},
   "source": [
    "#### Model evalutaion"
   ]
  },
  {
   "cell_type": "code",
   "execution_count": 34,
   "id": "b825c61e",
   "metadata": {},
   "outputs": [],
   "source": [
    "pred_train_rf = rf.predict(x_train_sc_df)\n",
    "pred_test_rf = rf.predict(x_test_sc_df)"
   ]
  },
  {
   "cell_type": "code",
   "execution_count": 35,
   "id": "3954f2ce",
   "metadata": {},
   "outputs": [
    {
     "data": {
      "image/png": "[encoded data removed]",
      "text/plain": [
       "<Figure size 432x288 with 1 Axes>"
      ]
     },
     "metadata": {
      "needs_background": "light"
     },
     "output_type": "display_data"
    }
   ],
   "source": [
    "y_pred_proba = rf.predict_proba(x_test_sc_df)[::,1]\n",
    "fpr, tpr, _ = metrics.roc_curve(y_test, y_pred_proba)\n",
    "auc = metrics.roc_auc_score(y_test, y_pred_proba)\n",
    "plt.plot(fpr,tpr,label=\"data 1, auc=\"+str(auc))\n",
    "plt.legend(loc=4)\n",
    "plt.show()"
   ]
  },
  {
   "cell_type": "code",
   "execution_count": 36,
   "id": "cb3cbab5",
   "metadata": {},
   "outputs": [
    {
     "data": {
      "text/html": [
       "<div>\n",
       "<style scoped>\n",
       "    .dataframe tbody tr th:only-of-type {\n",
       "        vertical-align: middle;\n",
       "    }\n",
       "\n",
       "    .dataframe tbody tr th {\n",
       "        vertical-align: top;\n",
       "    }\n",
       "\n",
       "    .dataframe thead th {\n",
       "        text-align: right;\n",
       "    }\n",
       "</style>\n",
       "<table border=\"1\" class=\"dataframe\">\n",
       "  <thead>\n",
       "    <tr style=\"text-align: right;\">\n",
       "      <th></th>\n",
       "      <th>Model</th>\n",
       "      <th>ROC Score</th>\n",
       "      <th>Precision Score</th>\n",
       "      <th>Recall Score</th>\n",
       "      <th>F1 Score</th>\n",
       "      <th>Accuracy Score</th>\n",
       "    </tr>\n",
       "  </thead>\n",
       "  <tbody>\n",
       "    <tr>\n",
       "      <th>0</th>\n",
       "      <td>Random Forest Classifier</td>\n",
       "      <td>0.952273</td>\n",
       "      <td>0.962264</td>\n",
       "      <td>0.927273</td>\n",
       "      <td>0.944444</td>\n",
       "      <td>0.958042</td>\n",
       "    </tr>\n",
       "  </tbody>\n",
       "</table>\n",
       "</div>"
      ],
      "text/plain": [
       "                        Model  ROC Score  Precision Score  Recall Score  \\\n",
       "0   Random Forest Classifier    0.952273         0.962264      0.927273   \n",
       "\n",
       "   F1 Score  Accuracy Score  \n",
       "0  0.944444        0.958042  "
      ]
     },
     "execution_count": 36,
     "metadata": {},
     "output_type": "execute_result"
    }
   ],
   "source": [
    "tmp1 = pd.Series({'Model': \" Random Forest Classifier \",\n",
    "                 'ROC Score' : metrics.roc_auc_score(y_test, pred_test_rf),\n",
    "                 'Precision Score': metrics.precision_score(y_test, pred_test_rf),\n",
    "                 'Recall Score': metrics.recall_score(y_test, pred_test_rf),\n",
    "                 'F1 Score' : metrics.f1_score(y_test, pred_test_rf),\n",
    "                 'Accuracy Score': metrics.accuracy_score(y_test, pred_test_rf)})\n",
    "\n",
    "model_rf_report = model_report.append(tmp1, ignore_index = True)\n",
    "model_rf_report"
   ]
  },
  {
   "cell_type": "markdown",
   "id": "87c8de5c",
   "metadata": {},
   "source": [
    "### Bagging Classifier"
   ]
  },
  {
   "cell_type": "code",
   "execution_count": 40,
   "id": "88536ad6",
   "metadata": {},
   "outputs": [
    {
     "name": "stdout",
     "output_type": "stream",
     "text": [
      "Fitting 5 folds for each of 160 candidates, totalling 800 fits\n"
     ]
    },
    {
     "data": {
      "text/plain": [
       "GridSearchCV(cv=5, estimator=BaggingClassifier(random_state=1), n_jobs=-1,\n",
       "             param_grid={'bootstrap': [True, False],\n",
       "                         'max_features': [1, 2, 3, 5, 10],\n",
       "                         'max_samples': [15, 20, 25, 30],\n",
       "                         'n_estimators': [150, 200, 250, 300]},\n",
       "             verbose=1)"
      ]
     },
     "execution_count": 40,
     "metadata": {},
     "output_type": "execute_result"
    }
   ],
   "source": [
    "# Hyperparameter Tuning Using GridSearchCV\n",
    "param_dist1 = {'n_estimators':[150,200,250,300],\n",
    "              'bootstrap': [True, False],\n",
    "              'max_features': [1,2,3,5,10],\n",
    "              'max_samples' : [15,20,25,30]}\n",
    "\n",
    "fit_bagging = BaggingClassifier(random_state = 1)\n",
    "\n",
    "cv_bagging = GridSearchCV(fit_bagging, cv = 5, param_grid= param_dist1, n_jobs = -1, verbose = 1)\n",
    "\n",
    "cv_bagging.fit(x_train_sc_df, y_train)"
   ]
  },
  {
   "cell_type": "code",
   "execution_count": 41,
   "id": "e4227d40",
   "metadata": {},
   "outputs": [
    {
     "data": {
      "text/plain": [
       "{'bootstrap': True, 'max_features': 5, 'max_samples': 25, 'n_estimators': 200}"
      ]
     },
     "execution_count": 41,
     "metadata": {},
     "output_type": "execute_result"
    }
   ],
   "source": [
    "cv_bagging.best_params_"
   ]
  },
  {
   "cell_type": "code",
   "execution_count": 37,
   "id": "8bf60386",
   "metadata": {},
   "outputs": [
    {
     "name": "stdout",
     "output_type": "stream",
     "text": [
      "Train_accuracy 0.9460093896713615\n",
      "Test_accuracy 0.9300699300699301\n"
     ]
    }
   ],
   "source": [
    "bagging = BaggingClassifier(n_estimators=200,max_samples=25, max_features=10, bootstrap=True, random_state=1)\n",
    "bagging.fit(x_train_sc_df, y_train)\n",
    "\n",
    "print('Train_accuracy', bagging.score(x_train_sc_df, y_train))\n",
    "print('Test_accuracy', bagging.score(x_test_sc_df, y_test))"
   ]
  },
  {
   "cell_type": "markdown",
   "id": "dac32e55",
   "metadata": {},
   "source": [
    "#### Model Evaluation"
   ]
  },
  {
   "cell_type": "code",
   "execution_count": 38,
   "id": "902fd91a",
   "metadata": {},
   "outputs": [
    {
     "data": {
      "image/png": "[encoded data removed]",
      "text/plain": [
       "<Figure size 432x288 with 1 Axes>"
      ]
     },
     "metadata": {
      "needs_background": "light"
     },
     "output_type": "display_data"
    }
   ],
   "source": [
    "y_pred_proba = bagging.predict_proba(x_test_sc_df)[::,1]\n",
    "fpr, tpr, _ = metrics.roc_curve(y_test,  y_pred_proba)\n",
    "auc = metrics.roc_auc_score(y_test, y_pred_proba)\n",
    "plt.plot(fpr,tpr,label=\"data 1, auc=\"+str(auc))\n",
    "plt.legend(loc=4)\n",
    "plt.show()"
   ]
  },
  {
   "cell_type": "code",
   "execution_count": 39,
   "id": "e83199c2",
   "metadata": {},
   "outputs": [
    {
     "data": {
      "text/html": [
       "<div>\n",
       "<style scoped>\n",
       "    .dataframe tbody tr th:only-of-type {\n",
       "        vertical-align: middle;\n",
       "    }\n",
       "\n",
       "    .dataframe tbody tr th {\n",
       "        vertical-align: top;\n",
       "    }\n",
       "\n",
       "    .dataframe thead th {\n",
       "        text-align: right;\n",
       "    }\n",
       "</style>\n",
       "<table border=\"1\" class=\"dataframe\">\n",
       "  <thead>\n",
       "    <tr style=\"text-align: right;\">\n",
       "      <th></th>\n",
       "      <th>Model</th>\n",
       "      <th>ROC Score</th>\n",
       "      <th>Precision Score</th>\n",
       "      <th>Recall Score</th>\n",
       "      <th>F1 Score</th>\n",
       "      <th>Accuracy Score</th>\n",
       "    </tr>\n",
       "  </thead>\n",
       "  <tbody>\n",
       "    <tr>\n",
       "      <th>0</th>\n",
       "      <td>Bagging Classifier</td>\n",
       "      <td>0.922727</td>\n",
       "      <td>0.924528</td>\n",
       "      <td>0.890909</td>\n",
       "      <td>0.907407</td>\n",
       "      <td>0.93007</td>\n",
       "    </tr>\n",
       "  </tbody>\n",
       "</table>\n",
       "</div>"
      ],
      "text/plain": [
       "                 Model  ROC Score  Precision Score  Recall Score  F1 Score  \\\n",
       "0  Bagging Classifier    0.922727         0.924528      0.890909  0.907407   \n",
       "\n",
       "   Accuracy Score  \n",
       "0         0.93007  "
      ]
     },
     "execution_count": 39,
     "metadata": {},
     "output_type": "execute_result"
    }
   ],
   "source": [
    "test_pred_bag = bagging.predict(x_test_sc_df)\n",
    "\n",
    "tmp2 = pd.Series({'Model': \"Bagging Classifier \",\n",
    "                 'ROC Score' : metrics.roc_auc_score(y_test, test_pred_bag),\n",
    "                 'Precision Score': metrics.precision_score(y_test, test_pred_bag),\n",
    "                 'Recall Score': metrics.recall_score(y_test, test_pred_bag),\n",
    "                 'F1 Score' : metrics.f1_score(y_test, test_pred_bag),\n",
    "                 'Accuracy Score': metrics.accuracy_score(y_test, test_pred_bag)})\n",
    "\n",
    "model_bag_report = model_report.append(tmp2, ignore_index = True)\n",
    "model_bag_report"
   ]
  },
  {
   "cell_type": "markdown",
   "id": "f6bd405c",
   "metadata": {},
   "source": [
    "### Adaboost Classifier"
   ]
  },
  {
   "cell_type": "code",
   "execution_count": 45,
   "id": "0974a445",
   "metadata": {},
   "outputs": [
    {
     "name": "stdout",
     "output_type": "stream",
     "text": [
      "Fitting 5 folds for each of 20 candidates, totalling 100 fits\n"
     ]
    },
    {
     "data": {
      "text/plain": [
       "GridSearchCV(cv=5, estimator=AdaBoostClassifier(random_state=1), n_jobs=-1,\n",
       "             param_grid={'learning_rate': [0.5, 0.7, 1, 1.5, 2],\n",
       "                         'n_estimators': [50, 100, 150, 200]},\n",
       "             verbose=1)"
      ]
     },
     "execution_count": 45,
     "metadata": {},
     "output_type": "execute_result"
    }
   ],
   "source": [
    "# Hyperparameter Tuning Using GridSearchCV\n",
    "param_dist2 = {'n_estimators':[50,100,150,200],\n",
    "               'learning_rate':[0.5,0.7,1,1.5,2]}\n",
    "\n",
    "fit_adaboost = AdaBoostClassifier(random_state = 1)\n",
    "\n",
    "cv_adaboost = GridSearchCV(fit_adaboost, cv = 5, param_grid= param_dist2, n_jobs = -1, verbose = 1)\n",
    "\n",
    "cv_adaboost.fit(x_train_sc_df, y_train)"
   ]
  },
  {
   "cell_type": "code",
   "execution_count": 46,
   "id": "237f337e",
   "metadata": {},
   "outputs": [
    {
     "data": {
      "text/plain": [
       "{'learning_rate': 1.5, 'n_estimators': 150}"
      ]
     },
     "execution_count": 46,
     "metadata": {},
     "output_type": "execute_result"
    }
   ],
   "source": [
    "cv_adaboost.best_params_"
   ]
  },
  {
   "cell_type": "code",
   "execution_count": 40,
   "id": "9c978ae7",
   "metadata": {},
   "outputs": [
    {
     "name": "stdout",
     "output_type": "stream",
     "text": [
      "Train_accuracy 1.0\n",
      "Test_accuracy 0.965034965034965\n"
     ]
    }
   ],
   "source": [
    "ABC = AdaBoostClassifier(n_estimators=150,learning_rate=1.5,random_state=1)\n",
    "ABC.fit(x_train_sc_df, y_train)\n",
    "\n",
    "print('Train_accuracy', ABC.score(x_train_sc_df, y_train))\n",
    "print('Test_accuracy', ABC.score(x_test_sc_df, y_test))"
   ]
  },
  {
   "cell_type": "markdown",
   "id": "daa5c3e0",
   "metadata": {},
   "source": [
    "#### Model Evaluation"
   ]
  },
  {
   "cell_type": "code",
   "execution_count": 41,
   "id": "087d4895",
   "metadata": {},
   "outputs": [
    {
     "data": {
      "image/png": "[encoded data removed]",
      "text/plain": [
       "<Figure size 432x288 with 1 Axes>"
      ]
     },
     "metadata": {
      "needs_background": "light"
     },
     "output_type": "display_data"
    }
   ],
   "source": [
    "y_pred_proba = ABC.predict_proba(x_test_sc_df)[::,1]\n",
    "fpr, tpr, _ = metrics.roc_curve(y_test,  y_pred_proba)\n",
    "auc = metrics.roc_auc_score(y_test, y_pred_proba)\n",
    "plt.plot(fpr,tpr,label=\"data 1, auc=\"+str(auc))\n",
    "plt.legend(loc=4)\n",
    "plt.show()"
   ]
  },
  {
   "cell_type": "code",
   "execution_count": 42,
   "id": "6db8f58e",
   "metadata": {},
   "outputs": [
    {
     "data": {
      "text/html": [
       "<div>\n",
       "<style scoped>\n",
       "    .dataframe tbody tr th:only-of-type {\n",
       "        vertical-align: middle;\n",
       "    }\n",
       "\n",
       "    .dataframe tbody tr th {\n",
       "        vertical-align: top;\n",
       "    }\n",
       "\n",
       "    .dataframe thead th {\n",
       "        text-align: right;\n",
       "    }\n",
       "</style>\n",
       "<table border=\"1\" class=\"dataframe\">\n",
       "  <thead>\n",
       "    <tr style=\"text-align: right;\">\n",
       "      <th></th>\n",
       "      <th>Model</th>\n",
       "      <th>ROC Score</th>\n",
       "      <th>Precision Score</th>\n",
       "      <th>Recall Score</th>\n",
       "      <th>F1 Score</th>\n",
       "      <th>Accuracy Score</th>\n",
       "    </tr>\n",
       "  </thead>\n",
       "  <tbody>\n",
       "    <tr>\n",
       "      <th>0</th>\n",
       "      <td>Adaboost Classifier</td>\n",
       "      <td>0.961364</td>\n",
       "      <td>0.962963</td>\n",
       "      <td>0.945455</td>\n",
       "      <td>0.954128</td>\n",
       "      <td>0.965035</td>\n",
       "    </tr>\n",
       "  </tbody>\n",
       "</table>\n",
       "</div>"
      ],
      "text/plain": [
       "                   Model  ROC Score  Precision Score  Recall Score  F1 Score  \\\n",
       "0   Adaboost Classifier    0.961364         0.962963      0.945455  0.954128   \n",
       "\n",
       "   Accuracy Score  \n",
       "0        0.965035  "
      ]
     },
     "execution_count": 42,
     "metadata": {},
     "output_type": "execute_result"
    }
   ],
   "source": [
    "test_pred_ABC = ABC.predict(x_test_sc_df)\n",
    "\n",
    "tmp3 = pd.Series({'Model': \" Adaboost Classifier \",\n",
    "                 'ROC Score' : metrics.roc_auc_score(y_test, test_pred_ABC),\n",
    "                 'Precision Score': metrics.precision_score(y_test, test_pred_ABC),\n",
    "                 'Recall Score': metrics.recall_score(y_test, test_pred_ABC),\n",
    "                 'F1 Score' : metrics.f1_score(y_test, test_pred_ABC),\n",
    "                 'Accuracy Score': metrics.accuracy_score(y_test, test_pred_ABC)})\n",
    "\n",
    "model_ABC_report = model_report.append(tmp3, ignore_index = True)\n",
    "model_ABC_report"
   ]
  },
  {
   "cell_type": "markdown",
   "id": "fd8c3fd5",
   "metadata": {},
   "source": [
    "#### Model Summary"
   ]
  },
  {
   "cell_type": "code",
   "execution_count": 43,
   "id": "b9a7b919",
   "metadata": {},
   "outputs": [
    {
     "data": {
      "text/html": [
       "<div>\n",
       "<style scoped>\n",
       "    .dataframe tbody tr th:only-of-type {\n",
       "        vertical-align: middle;\n",
       "    }\n",
       "\n",
       "    .dataframe tbody tr th {\n",
       "        vertical-align: top;\n",
       "    }\n",
       "\n",
       "    .dataframe thead th {\n",
       "        text-align: right;\n",
       "    }\n",
       "</style>\n",
       "<table border=\"1\" class=\"dataframe\">\n",
       "  <thead>\n",
       "    <tr style=\"text-align: right;\">\n",
       "      <th></th>\n",
       "      <th>Model</th>\n",
       "      <th>ROC Score</th>\n",
       "      <th>Precision Score</th>\n",
       "      <th>Recall Score</th>\n",
       "      <th>F1 Score</th>\n",
       "      <th>Accuracy Score</th>\n",
       "    </tr>\n",
       "  </thead>\n",
       "  <tbody>\n",
       "    <tr>\n",
       "      <th>0</th>\n",
       "      <td>Support Vector Machine</td>\n",
       "      <td>0.957955</td>\n",
       "      <td>0.980769</td>\n",
       "      <td>0.927273</td>\n",
       "      <td>0.953271</td>\n",
       "      <td>0.965035</td>\n",
       "    </tr>\n",
       "    <tr>\n",
       "      <th>1</th>\n",
       "      <td>Adaboost Classifier</td>\n",
       "      <td>0.961364</td>\n",
       "      <td>0.962963</td>\n",
       "      <td>0.945455</td>\n",
       "      <td>0.954128</td>\n",
       "      <td>0.965035</td>\n",
       "    </tr>\n",
       "    <tr>\n",
       "      <th>2</th>\n",
       "      <td>Random Forest Classifier</td>\n",
       "      <td>0.952273</td>\n",
       "      <td>0.962264</td>\n",
       "      <td>0.927273</td>\n",
       "      <td>0.944444</td>\n",
       "      <td>0.958042</td>\n",
       "    </tr>\n",
       "    <tr>\n",
       "      <th>3</th>\n",
       "      <td>Bagging Classifier</td>\n",
       "      <td>0.922727</td>\n",
       "      <td>0.924528</td>\n",
       "      <td>0.890909</td>\n",
       "      <td>0.907407</td>\n",
       "      <td>0.930070</td>\n",
       "    </tr>\n",
       "  </tbody>\n",
       "</table>\n",
       "</div>"
      ],
      "text/plain": [
       "                        Model  ROC Score  Precision Score  Recall Score  \\\n",
       "0     Support Vector Machine    0.957955         0.980769      0.927273   \n",
       "1        Adaboost Classifier    0.961364         0.962963      0.945455   \n",
       "2   Random Forest Classifier    0.952273         0.962264      0.927273   \n",
       "3         Bagging Classifier    0.922727         0.924528      0.890909   \n",
       "\n",
       "   F1 Score  Accuracy Score  \n",
       "0  0.953271        0.965035  \n",
       "1  0.954128        0.965035  \n",
       "2  0.944444        0.958042  \n",
       "3  0.907407        0.930070  "
      ]
     },
     "execution_count": 43,
     "metadata": {},
     "output_type": "execute_result"
    }
   ],
   "source": [
    "cols = ['Model', 'ROC Score', 'Precision Score', 'Recall Score','F1 Score', 'Accuracy Score']\n",
    "model = pd.DataFrame(columns = cols)\n",
    "model = model.append([model_svm_report,model_ABC_report,model_rf_report,model_bag_report], ignore_index = True)\n",
    "model"
   ]
  }
 ],
 "metadata": {
  "kernelspec": {
   "display_name": "Python 3 (ipykernel)",
   "language": "python",
   "name": "python3"
  },
  "language_info": {
   "codemirror_mode": {
    "name": "ipython",
    "version": 3
   },
   "file_extension": ".py",
   "mimetype": "text/x-python",
   "name": "python",
   "nbconvert_exporter": "python",
   "pygments_lexer": "ipython3",
   "version": "3.9.7"
  }
 },
 "nbformat": 4,
 "nbformat_minor": 5
}
